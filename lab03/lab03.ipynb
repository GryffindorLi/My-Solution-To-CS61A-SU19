{
 "cells": [
  {
   "cell_type": "code",
   "execution_count": 2,
   "metadata": {},
   "outputs": [
    {
     "data": {
      "text/plain": [
       "30"
      ]
     },
     "execution_count": 2,
     "metadata": {},
     "output_type": "execute_result"
    }
   ],
   "source": [
    "#question 1\n",
    "def skip_add(n):\n",
    "    \"\"\" Takes a number x and returns x + x-2 + x-4 + x-6 + ... + 0.\n",
    "\n",
    "    >>> skip_add(5)  # 5 + 3 + 1 + 0\n",
    "    9\n",
    "    >>> skip_add(10) # 10 + 8 + 6 + 4 + 2 + 0\n",
    "    30\n",
    "    >>> # Do not use while/for loops!\n",
    "    >>> from construct_check import check\n",
    "    >>> check('lab03.py', 'skip_add',\n",
    "    ...       ['While', 'For'])\n",
    "    True\n",
    "    \"\"\"\n",
    "    \"*** YOUR CODE HERE ***\"\n",
    "    if n==0:\n",
    "        return 0\n",
    "    elif n==1:\n",
    "        return 1\n",
    "    else:\n",
    "        return n+skip_add(n-2)\n",
    "    \n",
    "skip_add(10)"
   ]
  },
  {
   "cell_type": "code",
   "execution_count": 8,
   "metadata": {},
   "outputs": [
    {
     "name": "stdout",
     "output_type": "stream",
     "text": [
      "10\n",
      "5\n",
      "16\n",
      "8\n",
      "4\n",
      "2\n",
      "1\n"
     ]
    },
    {
     "data": {
      "text/plain": [
       "7"
      ]
     },
     "execution_count": 8,
     "metadata": {},
     "output_type": "execute_result"
    }
   ],
   "source": [
    "#question 2\n",
    "\n",
    "def hailstone(n):\n",
    "    \"\"\"Print out the hailstone sequence starting at n, and return the\n",
    "    number of elements in the sequence.\n",
    "\n",
    "    >>> a = hailstone(10)\n",
    "    10\n",
    "    5\n",
    "    16\n",
    "    8\n",
    "    4\n",
    "    2\n",
    "    1\n",
    "    >>> a\n",
    "    7\n",
    "    >>> # Do not use while/for loops!\n",
    "    >>> from construct_check import check\n",
    "    >>> check(this_file, 'hailstone',\n",
    "    ...       ['While', 'For'])\n",
    "    True\n",
    "    \"\"\"\n",
    "    \"*** YOUR CODE HERE ***\"\n",
    "    len=0\n",
    "    if n==1:\n",
    "        print(1)\n",
    "        len=len+1\n",
    "    elif n%2==0:\n",
    "        print(int(n))\n",
    "        len=len+1\n",
    "        return 1 + hailstone(n/2)\n",
    "    else:\n",
    "        print(int(n))\n",
    "        len=len+1\n",
    "        return 1 + hailstone(3*n+1)\n",
    "    return len\n",
    "    \n",
    "a=hailstone(10)\n",
    "a"
   ]
  },
  {
   "cell_type": "code",
   "execution_count": 16,
   "metadata": {},
   "outputs": [
    {
     "data": {
      "text/plain": [
       "54"
      ]
     },
     "execution_count": 16,
     "metadata": {},
     "output_type": "execute_result"
    }
   ],
   "source": [
    "#question 3\n",
    "def summation(n, term):\n",
    "\n",
    "    \"\"\"Return the sum of the first n terms in the sequence defined by term.\n",
    "    Implement using recursion!\n",
    "\n",
    "    >>> summation(5, lambda x: x * x * x) # 1^3 + 2^3 + 3^3 + 4^3 + 5^3\n",
    "    225\n",
    "    >>> summation(9, lambda x: x + 1) # 2 + 3 + 4 + 5 + 6 + 7 + 8 + 9 + 10\n",
    "    54\n",
    "    >>> summation(5, lambda x: 2**x) # 2^1 + 2^2 + 2^3 + 2^4 + 2^5\n",
    "    62\n",
    "    >>> # Do not use while/for loops!\n",
    "    >>> from construct_check import check\n",
    "    >>> check(this_file, 'summation',\n",
    "    ...       ['While', 'For'])\n",
    "    True\n",
    "    \"\"\"\n",
    "    assert n >= 1\n",
    "    \"*** YOUR CODE HERE ***\"\n",
    "    if n==1:\n",
    "        return term(1)\n",
    "    else:\n",
    "        sum=term(n)\n",
    "        return sum+summation(n-1, term)\n",
    "    \n",
    "summation(9, lambda x:x+1)"
   ]
  },
  {
   "cell_type": "code",
   "execution_count": 19,
   "metadata": {},
   "outputs": [
    {
     "data": {
      "text/plain": [
       "True"
      ]
     },
     "execution_count": 19,
     "metadata": {},
     "output_type": "execute_result"
    }
   ],
   "source": [
    "#question 4\n",
    "\n",
    "def is_prime(n):\n",
    "    \"\"\"Returns True if n is a prime number and False otherwise.\n",
    "\n",
    "    >>> is_prime(2)\n",
    "    True\n",
    "    >>> is_prime(16)\n",
    "    False\n",
    "    >>> is_prime(521)\n",
    "    True\n",
    "    \"\"\"\n",
    "    \"*** YOUR CODE HERE ***\"\n",
    "    def helper(n,i):\n",
    "        if n==2:\n",
    "            return True\n",
    "        if (n%i==0)&(i<n):\n",
    "            return False\n",
    "        elif i==n-1:\n",
    "            return True\n",
    "        else:\n",
    "            return helper(n,i+1)\n",
    "    return helper(n,2)\n",
    "is_prime(521)        "
   ]
  },
  {
   "cell_type": "code",
   "execution_count": 31,
   "metadata": {},
   "outputs": [
    {
     "data": {
      "text/plain": [
       "15"
      ]
     },
     "execution_count": 31,
     "metadata": {},
     "output_type": "execute_result"
    }
   ],
   "source": [
    "#question 5\n",
    "def gcd(a, b):\n",
    "    \"\"\"Returns the greatest common divisor of a and b.\n",
    "    Should be implemented using recursion.\n",
    "\n",
    "    >>> gcd(34, 19)\n",
    "    1\n",
    "    >>> gcd(39, 91)\n",
    "    13\n",
    "    >>> gcd(20, 30)\n",
    "    10\n",
    "    >>> gcd(40, 40)\n",
    "    40\n",
    "    \"\"\"\n",
    "    \"*** YOUR CODE HERE ***\"\n",
    "    if a < b:\n",
    "        return gcd(b, a)\n",
    "    elif a % b == 0:\n",
    "        return b\n",
    "    else:\n",
    "        return gcd(b, a % b)\n",
    "    \n",
    "gcd(15,30)"
   ]
  },
  {
   "cell_type": "code",
   "execution_count": 33,
   "metadata": {},
   "outputs": [
    {
     "data": {
      "text/plain": [
       "3"
      ]
     },
     "execution_count": 33,
     "metadata": {},
     "output_type": "execute_result"
    }
   ],
   "source": [
    "#question 6\n",
    "\n",
    "def count(n, i):\n",
    "    if n==0:\n",
    "        return 0\n",
    "    elif n%10 == i:\n",
    "        return count(n//10, i)+1\n",
    "    else:\n",
    "        return count(n//10, i)\n",
    "\n",
    "def ten_pairs(n):\n",
    "    \"\"\"Return the number of ten-pairs within positive integer n.\n",
    "\n",
    "    >>> ten_pairs(7823952)\n",
    "    3\n",
    "    >>> ten_pairs(55055)\n",
    "    6\n",
    "    >>> ten_pairs(9641469)\n",
    "    6\n",
    "    \"\"\"\n",
    "    \"*** YOUR CODE HERE ***\"\n",
    "    if n<10:\n",
    "        return 0\n",
    "    else:\n",
    "        return ten_pairs(n // 10) + count(n // 10, 10 - n % 10)\n",
    "    \n",
    "ten_pairs(7823952)"
   ]
  },
  {
   "cell_type": "code",
   "execution_count": null,
   "metadata": {},
   "outputs": [],
   "source": []
  }
 ],
 "metadata": {
  "kernelspec": {
   "display_name": "Python 3",
   "language": "python",
   "name": "python3"
  },
  "language_info": {
   "codemirror_mode": {
    "name": "ipython",
    "version": 3
   },
   "file_extension": ".py",
   "mimetype": "text/x-python",
   "name": "python",
   "nbconvert_exporter": "python",
   "pygments_lexer": "ipython3",
   "version": "3.7.0"
  }
 },
 "nbformat": 4,
 "nbformat_minor": 2
}
