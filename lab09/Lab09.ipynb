{
 "cells": [
  {
   "cell_type": "code",
   "execution_count": 1,
   "metadata": {},
   "outputs": [],
   "source": [
    "class Link:\n",
    "    \"\"\"A linked list.\n",
    "\n",
    "    >>> s = Link(1)\n",
    "    >>> s.first\n",
    "    1\n",
    "    >>> s.rest is Link.empty\n",
    "    True\n",
    "    >>> s = Link(2, Link(3, Link(4)))\n",
    "    >>> s.first = 5\n",
    "    >>> s.rest.first = 6\n",
    "    >>> s.rest.rest = Link.empty\n",
    "    >>> s                                    # Displays the contents of repr(s)\n",
    "    Link(5, Link(6))\n",
    "    >>> s.rest = Link(7, Link(Link(8, Link(9))))\n",
    "    >>> s\n",
    "    Link(5, Link(7, Link(Link(8, Link(9)))))\n",
    "    >>> print(s)                             # Prints str(s)\n",
    "    <5 7 <8 9>>\n",
    "    \"\"\"\n",
    "    empty = ()\n",
    "\n",
    "    def __init__(self, first, rest=empty):\n",
    "        assert rest is Link.empty or isinstance(rest, Link)\n",
    "        self.first = first\n",
    "        self.rest = rest\n",
    "\n",
    "    def __repr__(self):\n",
    "        if self.rest is not Link.empty:\n",
    "            rest_repr = ', ' + repr(self.rest)\n",
    "        else:\n",
    "            rest_repr = ''\n",
    "        return 'Link(' + repr(self.first) + rest_repr + ')'\n",
    "\n",
    "    def __str__(self):\n",
    "        string = '<'\n",
    "        while self.rest is not Link.empty:\n",
    "            string += str(self.first) + ' '\n",
    "            self = self.rest\n",
    "        return string + str(self.first) + '>'\n",
    "\n",
    "class Tree:\n",
    "    \"\"\"\n",
    "    >>> t = Tree(3, [Tree(2, [Tree(5)]), Tree(4)])\n",
    "    >>> t.label\n",
    "    3\n",
    "    >>> t.branches[0].label\n",
    "    2\n",
    "    >>> t.branches[1].is_leaf()\n",
    "    True\n",
    "    \"\"\"\n",
    "    def __init__(self, label, branches=[]):\n",
    "        for b in branches:\n",
    "            assert isinstance(b, Tree)\n",
    "        self.label = label\n",
    "        self.branches = list(branches)\n",
    "\n",
    "    def is_leaf(self):\n",
    "        return not self.branches\n",
    "\n",
    "    def map(self, fn):\n",
    "        \"\"\"\n",
    "        Apply a function `fn` to each node in the tree and mutate the tree.\n",
    "\n",
    "        >>> t1 = Tree(1)\n",
    "        >>> t1.map(lambda x: x + 2)\n",
    "        >>> t1.map(lambda x : x * 4)\n",
    "        >>> t1.label\n",
    "        12\n",
    "        >>> t2 = Tree(3, [Tree(2, [Tree(5)]), Tree(4)])\n",
    "        >>> t2.map(lambda x: x * x)\n",
    "        >>> t2\n",
    "        Tree(9, [Tree(4, [Tree(25)]), Tree(16)])\n",
    "        \"\"\"\n",
    "        self.label = fn(self.label)\n",
    "        for b in self.branches:\n",
    "            b.map(fn)\n",
    "\n",
    "    def __contains__(self, e):\n",
    "        \"\"\"\n",
    "        Determine whether an element exists in the tree.\n",
    "\n",
    "        >>> t1 = Tree(1)\n",
    "        >>> 1 in t1\n",
    "        True\n",
    "        >>> 8 in t1\n",
    "        False\n",
    "        >>> t2 = Tree(3, [Tree(2, [Tree(5)]), Tree(4)])\n",
    "        >>> 6 in t2\n",
    "        False\n",
    "        >>> 5 in t2\n",
    "        True\n",
    "        \"\"\"\n",
    "        if self.label == e:\n",
    "            return True\n",
    "        for b in self.branches:\n",
    "            if e in b:\n",
    "                return True\n",
    "        return False\n",
    "\n",
    "    def __repr__(self):\n",
    "        if self.branches:\n",
    "            branch_str = ', ' + repr(self.branches)\n",
    "        else:\n",
    "            branch_str = ''\n",
    "        return 'Tree({0}{1})'.format(self.label, branch_str)\n",
    "\n",
    "    def __str__(self):\n",
    "        def print_tree(t, indent=0):\n",
    "            tree_str = '  ' * indent + str(t.label) + \"\\n\"\n",
    "            for b in t.branches:\n",
    "                tree_str += print_tree(b, indent + 1)\n",
    "            return tree_str\n",
    "        return print_tree(self).rstrip()\n"
   ]
  },
  {
   "cell_type": "code",
   "execution_count": 3,
   "metadata": {},
   "outputs": [
    {
     "name": "stdout",
     "output_type": "stream",
     "text": [
      "[1, 2, 3, 4]\n"
     ]
    }
   ],
   "source": [
    "def link_to_list(link):\n",
    "    \"\"\"Takes a linked list and returns a Python list with the same elements.\n",
    "\n",
    "    >>> link = Link(1, Link(2, Link(3, Link(4))))\n",
    "    >>> link_to_list(link)\n",
    "    [1, 2, 3, 4]\n",
    "    >>> link_to_list(Link.empty)\n",
    "    []\n",
    "    \"\"\"\n",
    "    \"*** YOUR CODE HERE ***\"\n",
    "    result = []\n",
    "    while link is not Link.empty:\n",
    "        result.append(link.first)\n",
    "        link = link.rest\n",
    "    print(result)\n",
    "    \n",
    "link = Link(1, Link(2, Link(3, Link(4))))\n",
    "link_to_list(link)"
   ]
  },
  {
   "cell_type": "code",
   "execution_count": 7,
   "metadata": {},
   "outputs": [
    {
     "data": {
      "text/plain": [
       "Link(2, Link(3, Link(4, Link(5))))"
      ]
     },
     "execution_count": 7,
     "metadata": {},
     "output_type": "execute_result"
    }
   ],
   "source": [
    "def store_digits(n):\n",
    "    \"\"\"Stores the digits of a positive number n in a linked list.\n",
    "\n",
    "    >>> s = store_digits(1)\n",
    "    >>> s\n",
    "    Link(1)\n",
    "    >>> store_digits(2345)\n",
    "    Link(2, Link(3, Link(4, Link(5))))\n",
    "    >>> store_digits(876)\n",
    "    Link(8, Link(7, Link(6)))\n",
    "    \"\"\"\n",
    "    \"*** YOUR CODE HERE ***\"\n",
    "    link = Link.empty\n",
    "    while n!=0:\n",
    "        digit = n % 10\n",
    "        n = n // 10\n",
    "        link = Link(digit, link)\n",
    "    return link\n",
    "\n",
    "store_digits(2345)\n"
   ]
  },
  {
   "cell_type": "code",
   "execution_count": 11,
   "metadata": {},
   "outputs": [
    {
     "data": {
      "text/plain": [
       "Tree(16, [Tree(8, [Tree(5)]), Tree(7)])"
      ]
     },
     "execution_count": 11,
     "metadata": {},
     "output_type": "execute_result"
    }
   ],
   "source": [
    "def cumulative_sum(t):\n",
    "    \"\"\"Mutates t so that each node's label becomes the sum of all labels in\n",
    "    the corresponding subtree rooted at t.\n",
    "\n",
    "    >>> t = Tree(1, [Tree(3, [Tree(5)]), Tree(7)])\n",
    "    >>> cumulative_sum(t)\n",
    "    >>> t\n",
    "    Tree(16, [Tree(8, [Tree(5)]), Tree(7)])\n",
    "    \"\"\"\n",
    "    \"*** YOUR CODE HERE ***\"\n",
    "    s = 0\n",
    "    if t.is_leaf():\n",
    "        s += t.label\n",
    "    else:\n",
    "        for b in t.branches:\n",
    "            s = cumulative_sum(b).label + t.label\n",
    "            t.label = s\n",
    "    return t\n",
    "\n",
    "t = Tree(1, [Tree(3, [Tree(5)]), Tree(7)])\n",
    "cumulative_sum(t)\n",
    "t"
   ]
  },
  {
   "cell_type": "code",
   "execution_count": 13,
   "metadata": {},
   "outputs": [
    {
     "data": {
      "text/plain": [
       "False"
      ]
     },
     "execution_count": 13,
     "metadata": {},
     "output_type": "execute_result"
    }
   ],
   "source": [
    "def has_cycle(link):\n",
    "    \"\"\"Return whether link contains a cycle.\n",
    "\n",
    "    >>> s = Link(1, Link(2, Link(3)))\n",
    "    >>> s.rest.rest.rest = s\n",
    "    >>> has_cycle(s)\n",
    "    True\n",
    "    >>> t = Link(1, Link(2, Link(3)))\n",
    "    >>> has_cycle(t)\n",
    "    False\n",
    "    >>> u = Link(2, Link(2, Link(2)))\n",
    "    >>> has_cycle(u)\n",
    "    False\n",
    "    \"\"\"\n",
    "    \"*** YOUR CODE HERE ***\"\n",
    "    def track(lst, link):\n",
    "        if link is Link.empty:\n",
    "            return False\n",
    "        if link in lst:\n",
    "            return True\n",
    "        lst += [link]\n",
    "        link = link.rest\n",
    "        return track(lst, link)\n",
    "        \n",
    "    return track([], link)\n",
    "\n",
    "t = Link(1, Link(2, Link(3)))\n",
    "has_cycle(t)"
   ]
  },
  {
   "cell_type": "code",
   "execution_count": null,
   "metadata": {},
   "outputs": [],
   "source": [
    "def has_cycle_constant(link):\n",
    "    \"\"\"Return whether link contains a cycle.\n",
    "\n",
    "    >>> s = Link(1, Link(2, Link(3)))\n",
    "    >>> s.rest.rest.rest = s\n",
    "    >>> has_cycle_constant(s)\n",
    "    True\n",
    "    >>> t = Link(1, Link(2, Link(3)))\n",
    "    >>> has_cycle_constant(t)\n",
    "    False\n",
    "    \"\"\"\n",
    "    \"*** YOUR CODE HERE ***\"\n",
    "    "
   ]
  },
  {
   "cell_type": "code",
   "execution_count": 19,
   "metadata": {},
   "outputs": [
    {
     "data": {
      "text/plain": [
       "Tree(1, [Tree(8, [Tree(3, [Tree(5), Tree(4)]), Tree(6, [Tree(7)])]), Tree(2)])"
      ]
     },
     "execution_count": 19,
     "metadata": {},
     "output_type": "execute_result"
    }
   ],
   "source": [
    "def reverse_other(t):\n",
    "    \"\"\"Mutates the tree such that nodes on every other (odd-depth) level\n",
    "    have the labels of their branches all reversed.\n",
    "\n",
    "    >>> t = Tree(1, [Tree(2), Tree(3), Tree(4)])\n",
    "    >>> reverse_other(t)\n",
    "    >>> t\n",
    "    Tree(1, [Tree(4), Tree(3), Tree(2)])\n",
    "    >>> t = Tree(1, [Tree(2, [Tree(3, [Tree(4), Tree(5)]), Tree(6, [Tree(7)])]), Tree(8)])\n",
    "    >>> reverse_other(t)\n",
    "    >>> t\n",
    "    Tree(1, [Tree(8, [Tree(3, [Tree(5), Tree(4)]), Tree(6, [Tree(7)])]), Tree(2)])\n",
    "    \"\"\"\n",
    "    \"*** YOUR CODE HERE ***\"\n",
    "    \n",
    "    def depth_check(t, d):\n",
    "        if t.is_leaf():\n",
    "            return \n",
    "        elif d%2 == 0:\n",
    "            reverse = [b.label for b in reversed(t.branches)]\n",
    "            i = 0\n",
    "            for b in t.branches:\n",
    "                b.label = reverse[i]\n",
    "                i+=1\n",
    "        for b in t.branches:\n",
    "            depth_check(b, d+1)\n",
    "    return depth_check(t, 0)\n",
    "    \n",
    "'''  \n",
    "My Solution:\n",
    "\n",
    "    lst = []\n",
    "    if t.is_leaf():\n",
    "        return\n",
    "    for b in t.branches:\n",
    "        lst.append(b.label)\n",
    "    for b in t.branches:\n",
    "        b.label = lst.pop()\n",
    "    for b in t.branches:\n",
    "        return reverse_other(b)\n",
    "'''       \n",
    "        \n",
    "t = Tree(1, [Tree(2, [Tree(3, [Tree(4), Tree(5)]), Tree(6, [Tree(7)])]), Tree(8)])\n",
    "reverse_other(t)\n",
    "t      "
   ]
  },
  {
   "cell_type": "code",
   "execution_count": null,
   "metadata": {},
   "outputs": [],
   "source": []
  }
 ],
 "metadata": {
  "kernelspec": {
   "display_name": "Python 3",
   "language": "python",
   "name": "python3"
  },
  "language_info": {
   "codemirror_mode": {
    "name": "ipython",
    "version": 3
   },
   "file_extension": ".py",
   "mimetype": "text/x-python",
   "name": "python",
   "nbconvert_exporter": "python",
   "pygments_lexer": "ipython3",
   "version": "3.7.0"
  }
 },
 "nbformat": 4,
 "nbformat_minor": 2
}
