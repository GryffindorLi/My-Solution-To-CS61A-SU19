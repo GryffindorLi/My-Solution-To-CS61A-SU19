{
 "cells": [
  {
   "cell_type": "code",
   "execution_count": 1,
   "metadata": {},
   "outputs": [
    {
     "data": {
      "text/plain": [
       "[[1, 4], [2, 5], [3, 6]]"
      ]
     },
     "execution_count": 1,
     "metadata": {},
     "output_type": "execute_result"
    }
   ],
   "source": [
    "#question 2\n",
    "def couple(s1, s2):\n",
    "    \"\"\"Return a list that contains lists with i-th elements of two sequences\n",
    "    coupled together.\n",
    "    >>> s1 = [1, 2, 3]\n",
    "    >>> s2 = [4, 5, 6]\n",
    "    >>> couple(s1, s2)\n",
    "    [[1, 4], [2, 5], [3, 6]]\n",
    "    >>> s3 = ['c', 6]\n",
    "    >>> s4 = ['s', '1']\n",
    "    >>> couple(s3, s4)\n",
    "    [['c', 's'], [6, '1']]\n",
    "    \"\"\"\n",
    "    assert len(s1) == len(s2)\n",
    "    \"*** YOUR CODE HERE ***\"\n",
    "    l=len(s1)\n",
    "    result = []\n",
    "    for i in range(l):\n",
    "        temp = [s1[i], s2[i]]\n",
    "        result.append(temp)\n",
    "        \n",
    "    return result\n",
    "\n",
    "s1 = [1, 2, 3]\n",
    "s2 = [4, 5, 6]\n",
    "couple(s1,s2)"
   ]
  },
  {
   "cell_type": "code",
   "execution_count": 5,
   "metadata": {},
   "outputs": [
    {
     "data": {
      "text/plain": [
       "[[5, 'f'], [6, 'i'], [7, 'v'], [8, 'e']]"
      ]
     },
     "execution_count": 5,
     "metadata": {},
     "output_type": "execute_result"
    }
   ],
   "source": [
    "#question 3\n",
    "def enumerate(s, start=0):\n",
    "    \"\"\"Returns a list of lists, where the i-th list contains i+start and\n",
    "    the i-th element of s.\n",
    "    >>> enumerate([6, 1, 'a'])\n",
    "    [[0, 6], [1, 1], [2, 'a']]\n",
    "    >>> enumerate('five', 5)\n",
    "    [[5, 'f'], [6, 'i'], [7, 'v'], [8, 'e']]\n",
    "    \"\"\"\n",
    "    \"*** YOUR CODE HERE ***\"\n",
    "    l=len(s)\n",
    "    idx=[]\n",
    "    for i in range(l):\n",
    "        idx.append(start+i)\n",
    "    result = couple(idx, s)\n",
    "    return result\n",
    "\n",
    "enumerate('five', 5)"
   ]
  },
  {
   "cell_type": "code",
   "execution_count": 6,
   "metadata": {},
   "outputs": [],
   "source": [
    "#functions that are needed in the following question\n",
    "def make_city(name, lat, lon):\n",
    "    return {'name':name, 'latitude':lat, 'longitude':lon}\n",
    "\n",
    "def get_name(city):\n",
    "    return city['name']\n",
    "\n",
    "def get_lat(city):\n",
    "    return city['latitude']\n",
    "\n",
    "def get_lon(city):\n",
    "    return city['longitude']\n",
    "\n"
   ]
  },
  {
   "cell_type": "code",
   "execution_count": 8,
   "metadata": {},
   "outputs": [
    {
     "data": {
      "text/plain": [
       "1.0"
      ]
     },
     "execution_count": 8,
     "metadata": {},
     "output_type": "execute_result"
    }
   ],
   "source": [
    "#question 4\n",
    "from math import sqrt\n",
    "def distance(city1, city2):\n",
    "    \"\"\"\n",
    "    >>> city1 = make_city('city1', 0, 1)\n",
    "    >>> city2 = make_city('city2', 0, 2)\n",
    "    >>> distance(city1, city2)\n",
    "    1.0\n",
    "    >>> city3 = make_city('city3', 6.5, 12)\n",
    "    >>> city4 = make_city('city4', 2.5, 15)\n",
    "    >>> distance(city3, city4)\n",
    "    5.0\n",
    "    \"\"\"\n",
    "    \"*** YOUR CODE HERE ***\"\n",
    "    x=(get_lat(city1)-get_lat(city2))**2\n",
    "    y=(get_lon(city1)-get_lon(city2))**2\n",
    "    return sqrt(x+y)\n",
    "\n",
    "city1 = make_city('city1', 0, 1)\n",
    "city2 = make_city('city2', 0, 2)\n",
    "distance(city1, city2)"
   ]
  },
  {
   "cell_type": "code",
   "execution_count": 10,
   "metadata": {},
   "outputs": [
    {
     "data": {
      "text/plain": [
       "'Bucharest'"
      ]
     },
     "execution_count": 10,
     "metadata": {},
     "output_type": "execute_result"
    }
   ],
   "source": [
    "#question 5\n",
    "def closer_city(lat, lon, city1, city2):\n",
    "    \"\"\"\n",
    "    Returns the name of either city1 or city2, whichever is closest to\n",
    "    coordinate (lat, lon).\n",
    "\n",
    "    >>> berkeley = make_city('Berkeley', 37.87, 112.26)\n",
    "    >>> stanford = make_city('Stanford', 34.05, 118.25)\n",
    "    >>> closer_city(38.33, 121.44, berkeley, stanford)\n",
    "    'Stanford'\n",
    "    >>> bucharest = make_city('Bucharest', 44.43, 26.10)\n",
    "    >>> vienna = make_city('Vienna', 48.20, 16.37)\n",
    "    >>> closer_city(41.29, 174.78, bucharest, vienna)\n",
    "    'Bucharest'\n",
    "    \"\"\"\n",
    "    \"*** YOUR CODE HERE ***\"\n",
    "    temp=make_city('temp', lat, lon)\n",
    "    dist1 = distance(temp, city1)\n",
    "    dist2 = distance(temp, city2)\n",
    "    if dist1<dist2:\n",
    "        return city1['name']\n",
    "    else:\n",
    "        return city2['name']\n",
    "    \n",
    "bucharest = make_city('Bucharest', 44.43, 26.10)\n",
    "vienna = make_city('Vienna', 48.20, 16.37)\n",
    "closer_city(41.29, 174.78, bucharest, vienna)"
   ]
  },
  {
   "cell_type": "code",
   "execution_count": 25,
   "metadata": {},
   "outputs": [
    {
     "data": {
      "text/plain": [
       "[7.0, 3.0, 1.0, 10.0]"
      ]
     },
     "execution_count": 25,
     "metadata": {},
     "output_type": "execute_result"
    }
   ],
   "source": [
    "#question 7\n",
    "def squares(s):\n",
    "    \"\"\"Returns a new list containing square roots of the elements of the\n",
    "    original list that are perfect squares.\n",
    "\n",
    "    >>> seq = [8, 49, 8, 9, 2, 1, 100, 102]\n",
    "    >>> squares(seq)\n",
    "    [7, 3, 1, 10]\n",
    "    >>> seq = [500, 30]\n",
    "    >>> squares(seq)\n",
    "    []\n",
    "    \"\"\"\n",
    "    \"*** YOUR CODE HERE ***\"\n",
    "    result = [sqrt(x) for x in s if (sqrt(x)-round(sqrt(x))==0)]\n",
    "    return result\n",
    "\n",
    "seq = [8, 49, 8, 9, 2, 1, 100, 102]\n",
    "squares(seq)"
   ]
  },
  {
   "cell_type": "code",
   "execution_count": 27,
   "metadata": {},
   "outputs": [
    {
     "data": {
      "text/plain": [
       "['c']"
      ]
     },
     "execution_count": 27,
     "metadata": {},
     "output_type": "execute_result"
    }
   ],
   "source": [
    "#question 8\n",
    "def key_of_min_value(d):\n",
    "    \"\"\"Returns the key in a dict d that corresponds to the minimum value of d.\n",
    "    >>> letters = {'a': 6, 'b': 5, 'c': 4, 'd': 5}\n",
    "    >>> min(letters)\n",
    "    'a'\n",
    "    >>> key_of_min_value(letters)\n",
    "    'c'\n",
    "    \"\"\"\n",
    "    \"*** YOUR CODE HERE ***\"\n",
    "    res =  [key for key in d if all(d[temp] >= d[key] for temp in d)] \n",
    "    return res\n",
    "\n",
    "letters = {'a': 6, 'b': 5, 'c': 4, 'd': 5}\n",
    "key_of_min_value(letters)"
   ]
  },
  {
   "cell_type": "code",
   "execution_count": null,
   "metadata": {},
   "outputs": [],
   "source": []
  }
 ],
 "metadata": {
  "kernelspec": {
   "display_name": "Python 3",
   "language": "python",
   "name": "python3"
  },
  "language_info": {
   "codemirror_mode": {
    "name": "ipython",
    "version": 3
   },
   "file_extension": ".py",
   "mimetype": "text/x-python",
   "name": "python",
   "nbconvert_exporter": "python",
   "pygments_lexer": "ipython3",
   "version": "3.7.0"
  }
 },
 "nbformat": 4,
 "nbformat_minor": 2
}
