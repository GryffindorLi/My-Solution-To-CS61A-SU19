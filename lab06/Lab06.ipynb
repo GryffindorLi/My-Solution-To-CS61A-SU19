{
 "cells": [
  {
   "cell_type": "code",
   "execution_count": 5,
   "metadata": {},
   "outputs": [
    {
     "data": {
      "text/plain": [
       "8"
      ]
     },
     "execution_count": 5,
     "metadata": {},
     "output_type": "execute_result"
    }
   ],
   "source": [
    "#question 1\n",
    "def make_adder_inc(n):\n",
    "    \"\"\"\n",
    "    >>> adder1 = make_adder_inc(5)\n",
    "    >>> adder2 = make_adder_inc(6)\n",
    "    >>> adder1(2) \n",
    "    7\n",
    "    >>> adder1(2) # 5 + 2 + 1\n",
    "    8\n",
    "    >>> adder1(10) # 5 + 10 + 2\n",
    "    17\n",
    "    >>> [adder1(x) for x in [1, 2, 3]]\n",
    "    [9, 11, 13]\n",
    "    >>> adder2(5)\n",
    "    11\n",
    "    \"\"\"\n",
    "    \"*** YOUR CODE HERE ***\"\n",
    "    k = 0\n",
    "    def make_add(num):\n",
    "        nonlocal k\n",
    "        result = n+num+k\n",
    "        k = k+1\n",
    "        return result\n",
    "    return make_add\n",
    "\n",
    "\n",
    "adder1 = make_adder_inc(5)\n",
    "adder2 = make_adder_inc(6)\n",
    "adder1(2)      \n",
    "adder1(2)"
   ]
  },
  {
   "cell_type": "code",
   "execution_count": 3,
   "metadata": {},
   "outputs": [
    {
     "data": {
      "text/plain": [
       "[25, 1, 4, 0]"
      ]
     },
     "execution_count": 3,
     "metadata": {},
     "output_type": "execute_result"
    }
   ],
   "source": [
    "#question 2\n",
    "def map(fn, lst):\n",
    "    \"\"\"Maps fn onto lst using mutation.\n",
    "    >>> original_list = [5, -1, 2, 0]\n",
    "    >>> map(lambda x: x * x, original_list)\n",
    "    >>> original_list\n",
    "    [25, 1, 4, 0]\n",
    "    \"\"\"\n",
    "    \"*** YOUR CODE HERE ***\"\n",
    "    for index, elem in enumerate(lst):\n",
    "        lst[index] = fn(elem)\n",
    "\n",
    "original_list = [5, -1, 2, 0]\n",
    "map(lambda x: x * x, original_list)\n",
    "original_list"
   ]
  },
  {
   "cell_type": "code",
   "execution_count": null,
   "metadata": {},
   "outputs": [],
   "source": []
  }
 ],
 "metadata": {
  "kernelspec": {
   "display_name": "Python 3",
   "language": "python",
   "name": "python3"
  },
  "language_info": {
   "codemirror_mode": {
    "name": "ipython",
    "version": 3
   },
   "file_extension": ".py",
   "mimetype": "text/x-python",
   "name": "python",
   "nbconvert_exporter": "python",
   "pygments_lexer": "ipython3",
   "version": "3.7.0"
  }
 },
 "nbformat": 4,
 "nbformat_minor": 2
}
